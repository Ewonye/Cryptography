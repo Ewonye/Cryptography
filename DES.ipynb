{
 "cells": [
  {
   "cell_type": "markdown",
   "metadata": {},
   "source": [
    "# Algorithm for gcd"
   ]
  },
  {
   "cell_type": "code",
   "execution_count": 2,
   "metadata": {
    "ExecuteTime": {
     "end_time": "2021-05-10T12:00:40.671686Z",
     "start_time": "2021-05-10T12:00:40.657725Z"
    }
   },
   "outputs": [],
   "source": [
    "def gcd(a,b):\n",
    "    if a<b:\n",
    "        (a,b)=(b,a)\n",
    "    if(a%b) ==0:\n",
    "        return b\n",
    "    else:\n",
    "        return (gcd(b,a%b))"
   ]
  },
  {
   "cell_type": "code",
   "execution_count": 3,
   "metadata": {
    "ExecuteTime": {
     "end_time": "2021-05-10T12:00:40.979219Z",
     "start_time": "2021-05-10T12:00:40.957280Z"
    }
   },
   "outputs": [
    {
     "data": {
      "text/plain": [
       "2"
      ]
     },
     "execution_count": 3,
     "metadata": {},
     "output_type": "execute_result"
    }
   ],
   "source": [
    "gcd(12,2)"
   ]
  },
  {
   "cell_type": "markdown",
   "metadata": {},
   "source": [
    "# EXTENDED EUCLIDEAN ALGORITHM"
   ]
  },
  {
   "cell_type": "code",
   "execution_count": null,
   "metadata": {},
   "outputs": [],
   "source": []
  },
  {
   "cell_type": "markdown",
   "metadata": {},
   "source": [
    "# Key Generation Algorithm"
   ]
  },
  {
   "cell_type": "code",
   "execution_count": 4,
   "metadata": {
    "ExecuteTime": {
     "end_time": "2021-05-10T12:00:44.519254Z",
     "start_time": "2021-05-10T12:00:42.034743Z"
    }
   },
   "outputs": [],
   "source": [
    "import numpy as np\n",
    "K = [1,1,0,0,0,1,1,1,0,0,1,0,1,1,0,0]\n",
    "H = [3,5,2,0,4,1,6,7]"
   ]
  },
  {
   "cell_type": "code",
   "execution_count": 5,
   "metadata": {
    "ExecuteTime": {
     "end_time": "2021-05-10T12:00:44.535337Z",
     "start_time": "2021-05-10T12:00:44.521247Z"
    }
   },
   "outputs": [
    {
     "data": {
      "text/plain": [
       "[1, 1, 0, 0, 0, 1, 1, 1]"
      ]
     },
     "execution_count": 5,
     "metadata": {},
     "output_type": "execute_result"
    }
   ],
   "source": [
    "K1_11=K[:len(K)//2]\n",
    "K2_11=K[len(K)//2:]\n",
    "K1_11"
   ]
  },
  {
   "cell_type": "code",
   "execution_count": 6,
   "metadata": {
    "ExecuteTime": {
     "end_time": "2021-05-10T12:00:44.627875Z",
     "start_time": "2021-05-10T12:00:44.536851Z"
    }
   },
   "outputs": [
    {
     "data": {
      "text/plain": [
       "(array([1, 0, 1, 1, 1, 0, 0, 0], dtype=int32),\n",
       " array([0, 1, 1, 0, 1, 1, 0, 0], dtype=int32))"
      ]
     },
     "execution_count": 6,
     "metadata": {},
     "output_type": "execute_result"
    }
   ],
   "source": [
    "def key_generation3(K,H):\n",
    "    K1_11=K[:len(K)//2]\n",
    "    K2_11=K[len(K)//2:]\n",
    "    H_K1_11=[K1_11[i] for i in H ]\n",
    "    H_K2_11=[K2_11[i] for i in H ]\n",
    "    K_1=np.bitwise_xor(np.bitwise_or(H_K1_11,K2_11),(K1_11))\n",
    "    K_2= np.bitwise_xor(np.bitwise_and(H_K2_11,K1_11),(K2_11))   \n",
    "    return K_1,K_2\n",
    "key_generation3(K,H)"
   ]
  },
  {
   "cell_type": "code",
   "execution_count": 7,
   "metadata": {
    "ExecuteTime": {
     "end_time": "2021-05-10T12:00:44.720861Z",
     "start_time": "2021-05-10T12:00:44.628871Z"
    }
   },
   "outputs": [
    {
     "data": {
      "text/plain": [
       "([0, 1, 0, 0, 0, 0, 1, 0], [0, 0, 0, 1, 0, 0, 1, 0])"
      ]
     },
     "execution_count": 7,
     "metadata": {},
     "output_type": "execute_result"
    }
   ],
   "source": [
    "def step4(K,H):\n",
    "    K1,K2=key_generation3(K,H)\n",
    "    H_K1=[K1[i] for i in H ]\n",
    "    H_K2=[K2[i] for i in H ]\n",
    "    K1_11=np.bitwise_xor(np.bitwise_or(H_K2,K1),(K2))\n",
    "    K2_11= np.bitwise_xor(np.bitwise_and(H_K1,K2),(K1)) \n",
    "    K1_1=list(K1_11[2:])+list(K1_11[:2])\n",
    "    K2_1=list(K2_11[-3:])+list(K2_11[:-3])\n",
    "    return K1_1,K2_1\n",
    "step4(K,H)\n",
    "    "
   ]
  },
  {
   "cell_type": "code",
   "execution_count": 8,
   "metadata": {
    "ExecuteTime": {
     "end_time": "2021-05-10T12:00:44.798399Z",
     "start_time": "2021-05-10T12:00:44.722856Z"
    }
   },
   "outputs": [
    {
     "data": {
      "text/plain": [
       "(array([1, 1, 0, 1, 1, 0, 1, 1], dtype=int32),\n",
       " array([1, 0, 0, 0, 0, 0, 1, 1], dtype=int32))"
      ]
     },
     "execution_count": 8,
     "metadata": {},
     "output_type": "execute_result"
    }
   ],
   "source": [
    "N=[1,1,0,0,0,1,1,1,0,1,0,0,1,1,1,0]\n",
    "pie=['9','A','4','6','0','B','2','7','E','3','C','1','5','D','8','F']\n",
    "P=[7,5,4,2,0,1,3,6]\n",
    "K1,K2=step4(K,H)\n",
    "def Cipher(N,pie,P):\n",
    "    numerics = []\n",
    "    alphabets = []\n",
    "    for sub in pie:\n",
    "\n",
    "        # checking and inserting in respective container\n",
    "        if sub.isnumeric():\n",
    "            numerics.append(sub)\n",
    "        else:\n",
    "            alphabets.append(sub)\n",
    "\n",
    "    # attaching lists post sort\n",
    "    res = sorted(numerics) + sorted(alphabets)\n",
    "    dictionary = dict(zip(res, N))\n",
    "    H=[dictionary[i] for i in pie ]\n",
    "    \n",
    "    G0=H[:len(H)//2]\n",
    "    D0=H[len(H)//2:]\n",
    "    P_G0=[G0[i] for i in P]\n",
    "    D1=np.bitwise_xor(P_G0,K1)\n",
    "    P_K1=[K1[i] for i in P]\n",
    "    or1=np.bitwise_or(G0,P_K1)\n",
    "    and1=np.bitwise_and(P_G0,K1)\n",
    "    G_=np.bitwise_xor(D0,or1)\n",
    "    G1=np.bitwise_xor(G_,and1)\n",
    "    P_G1=[G1[i] for i in P]\n",
    "    P_K2=[K2[i] for i in P]\n",
    "    D2=np.bitwise_xor(P_G1,K2)\n",
    "    G_o=np.bitwise_or(G1,P_K2)\n",
    "    G_a=np.bitwise_and(P_G1,K2)\n",
    "    G_2=np.bitwise_xor(D1,G_o)\n",
    "    G2=np.bitwise_xor(G_2,G_a)\n",
    "    return G2,D2\n",
    "Cipher(N,pie,P)\n"
   ]
  },
  {
   "cell_type": "code",
   "execution_count": 12,
   "metadata": {
    "ExecuteTime": {
     "end_time": "2021-05-10T12:01:19.935186Z",
     "start_time": "2021-05-10T12:01:19.919225Z"
    }
   },
   "outputs": [
    {
     "data": {
      "text/plain": [
       "[1, 1, 0, 1, 1, 0, 1, 1, 1, 0, 0, 0, 0, 0, 1, 1]"
      ]
     },
     "execution_count": 12,
     "metadata": {},
     "output_type": "execute_result"
    }
   ],
   "source": [
    "G2,D2=(Cipher(N,pie,P))\n",
    "C=list(G2)+list(D2)\n",
    "C"
   ]
  },
  {
   "cell_type": "code",
   "execution_count": null,
   "metadata": {},
   "outputs": [],
   "source": []
  }
 ],
 "metadata": {
  "kernelspec": {
   "display_name": "Python 3",
   "language": "python",
   "name": "python3"
  },
  "language_info": {
   "codemirror_mode": {
    "name": "ipython",
    "version": 3
   },
   "file_extension": ".py",
   "mimetype": "text/x-python",
   "name": "python",
   "nbconvert_exporter": "python",
   "pygments_lexer": "ipython3",
   "version": "3.7.0"
  },
  "toc": {
   "base_numbering": 1,
   "nav_menu": {},
   "number_sections": true,
   "sideBar": true,
   "skip_h1_title": false,
   "title_cell": "Table of Contents",
   "title_sidebar": "Contents",
   "toc_cell": false,
   "toc_position": {},
   "toc_section_display": true,
   "toc_window_display": false
  }
 },
 "nbformat": 4,
 "nbformat_minor": 2
}
